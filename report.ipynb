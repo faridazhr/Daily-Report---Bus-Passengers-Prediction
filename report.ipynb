{
 "cells": [
  {
   "cell_type": "code",
   "execution_count": 1,
   "metadata": {},
   "outputs": [],
   "source": [
    "import functions\n",
    "\n",
    "import datetime\n",
    "import locale"
   ]
  },
  {
   "cell_type": "code",
   "execution_count": 2,
   "metadata": {},
   "outputs": [
    {
     "name": "stdout",
     "output_type": "stream",
     "text": [
      "Connected to: 5.5.5-10.4.29-MariaDB\n",
      "status: collecting data pax bms from 2023-11-06 to 2023-11-13\n",
      "status: starting forecasting data 2023-11-14 15:45:19.701712\n",
      "168/168 [==============================] - 2s 7ms/step\n",
      "status: success forecasting data 2023-11-14 15:45:19.701712\n",
      "\n"
     ]
    }
   ],
   "source": [
    "## Get today's date\n",
    "_today = datetime.datetime.today()\n",
    "today = _today.strftime('%Y-%m-%d')\n",
    "\n",
    "# Set the locale to Indonesian\n",
    "locale.setlocale(locale.LC_ALL, 'id_ID.utf8')\n",
    "# Format the date as per Indonesian locale\n",
    "hari_ini = datetime.date.today().strftime(\"%A, %d %B %Y\")\n",
    "\n",
    "# Collect forecast data pax bms\n",
    "forecast_data = functions.collect_forecast_pax_bms(today=_today)\n",
    "df_t1, data_t1, x_t1, y_t1, list_ovtime_t1, time_t1, meanT1, err_t1, mean_plusT1, mean_minT1  = functions.generate_data(today, forecast_data, terminal=1)\n",
    "df_t2, data_t2, x_t2, y_t2, list_ovtime_t2, time_t2, meanT2, err_t2, mean_plusT2, mean_minT2  = functions.generate_data(today, forecast_data, terminal=2)\n",
    "df_t3, data_t3, x_t3, y_t3, list_ovtime_t3, time_t3, meanT3, err_t3, mean_plusT3, mean_minT3  = functions.generate_data(today, forecast_data, terminal=3)"
   ]
  },
  {
   "cell_type": "code",
   "execution_count": 3,
   "metadata": {},
   "outputs": [
    {
     "name": "stdout",
     "output_type": "stream",
     "text": [
      "\n",
      "\n",
      "== REPORT START HERE ==\n",
      "\n",
      "\n",
      "Assalamu'alaikum warrahmatullahi wabarakatuh\n",
      "Selamat pagi rekan2 semua\n",
      "Izin Chief,  Bu yuni, Bapak/ Ibu leader, dan rekan-rekan semua.\n",
      "izin menginformasikan Daily Report potensi kepadatan penumpang BMS sebagai berikut:\n",
      "\n",
      "*Daily Report Potensi Kepadatan Penumpang BMS*\n",
      "_Selasa, 14 November 2023_\n",
      "\n",
      "*TERMINAL 1*\n",
      "Pada pukul 09:00 - 21:00 memiliki prakiraan jumlah penumpang bus yang lebih dari rata-rata, sehingga perlu disiapkan antisipasi pada rentang waktu tersebut.\n",
      "Estimasi lonjakan penumpang terjadi pada pukul: \n",
      "- 13:00\n",
      "- 14:00\n",
      "- 15:00\n",
      "- 17:00\n",
      "- 18:00\n",
      "- 19:00\n",
      "Di Terminal 1 pada rentang waktu tersebut  memerlukan perhatian khusus oleh tim yang bertugas.\n",
      "\n",
      "\n",
      "*TERMINAL 2*\n",
      "Pada pukul 09:00 - 22:00 memiliki prakiraan jumlah penumpang bus yang lebih dari rata-rata, sehingga perlu disiapkan antisipasi pada rentang waktu tersebut.\n",
      "Estimasi lonjakan penumpang terjadi pada pukul: \n",
      "- 18:00\n",
      "- 19:00\n",
      "- 20:00\n",
      "- 21:00\n",
      "Di Terminal 2 pada rentang waktu tersebut  memerlukan perhatian khusus oleh tim yang bertugas.\n",
      "\n",
      "\n",
      "*TERMINAL 3*\n",
      "Pada pukul 09:00 - 22:00 memiliki prakiraan jumlah penumpang bus yang lebih dari rata-rata, sehingga perlu disiapkan antisipasi pada rentang waktu tersebut.\n",
      "Estimasi lonjakan penumpang terjadi pada pukul: \n",
      "- 15:00\n",
      "- 16:00\n",
      "- 17:00\n",
      "- 18:00\n",
      "- 19:00\n",
      "Di Terminal 3 pada rentang waktu tersebut  memerlukan perhatian khusus oleh tim yang bertugas.\n",
      "\n",
      "\n",
      "Demikian disampaikan, atas perhatian dan perkenannya, diucapkan terimakasih 🙏🏻🙏🏻 \n",
      "Semangat untuk tim yang bertugas! 🫡 🫡 \n",
      "\n",
      "\n",
      "== END REPORT ==\n"
     ]
    }
   ],
   "source": [
    "# Print Report\n",
    "print(\"\\n\\n== REPORT START HERE ==\\n\\n\")\n",
    "print(\n",
    "    \"Assalamu'alaikum warrahmatullahi wabarakatuh\\n\"\n",
    "    \"Selamat pagi rekan2 semua\\n\"\n",
    "    \"Izin Chief,  Bu yuni, Bapak/ Ibu leader, dan rekan-rekan semua.\\n\"\n",
    "    f\"izin menginformasikan Daily Report potensi kepadatan penumpang BMS sebagai berikut:\\n\\n\"\n",
    "    \"*Daily Report Potensi Kepadatan Penumpang BMS*\\n\"\n",
    "    f\"_{hari_ini}_\"\n",
    "    \"\\n\\n\"\n",
    "    \"*TERMINAL 1*\\n\"\n",
    "    f\"Pada pukul {time_t1[0]} - {time_t1[-1]} memiliki prakiraan jumlah penumpang bus yang lebih dari rata-rata, sehingga perlu disiapkan antisipasi pada rentang waktu tersebut.\\n\"\n",
    "    \"Estimasi lonjakan penumpang terjadi pada pukul: \")\n",
    "functions.get_info(df_t1, 1)\n",
    "print(\n",
    "    \"\\n\\n\"\n",
    "    \"*TERMINAL 2*\\n\"\n",
    "    f\"Pada pukul {time_t2[0]} - {time_t2[-1]} memiliki prakiraan jumlah penumpang bus yang lebih dari rata-rata, sehingga perlu disiapkan antisipasi pada rentang waktu tersebut.\\n\"\n",
    "    \"Estimasi lonjakan penumpang terjadi pada pukul: \")\n",
    "functions.get_info(df_t2, 2)\n",
    "print(\n",
    "    \"\\n\\n\"\n",
    "    \"*TERMINAL 3*\\n\"\n",
    "    f\"Pada pukul {time_t3[0]} - {time_t3[-1]} memiliki prakiraan jumlah penumpang bus yang lebih dari rata-rata, sehingga perlu disiapkan antisipasi pada rentang waktu tersebut.\\n\"\n",
    "    \"Estimasi lonjakan penumpang terjadi pada pukul: \")\n",
    "functions.get_info(df_t3, 3)\n",
    "print(\n",
    "    \"\\n\\n\"\n",
    "    \"Demikian disampaikan, atas perhatian dan perkenannya, diucapkan terimakasih \\U0001F64F\\U0001F3FB\\U0001F64F\\U0001F3FB \"\n",
    "    \"\\nSemangat untuk tim yang bertugas! \\U0001FAE1 \\U0001FAE1 \"\n",
    "    \"\\n\\n\"\n",
    ")\n",
    "print(\"== END REPORT ==\")"
   ]
  },
  {
   "cell_type": "code",
   "execution_count": null,
   "metadata": {},
   "outputs": [],
   "source": []
  }
 ],
 "metadata": {
  "kernelspec": {
   "display_name": "Python 3",
   "language": "python",
   "name": "python3"
  },
  "language_info": {
   "codemirror_mode": {
    "name": "ipython",
    "version": 3
   },
   "file_extension": ".py",
   "mimetype": "text/x-python",
   "name": "python",
   "nbconvert_exporter": "python",
   "pygments_lexer": "ipython3",
   "version": "3.11.3"
  },
  "orig_nbformat": 4
 },
 "nbformat": 4,
 "nbformat_minor": 2
}
